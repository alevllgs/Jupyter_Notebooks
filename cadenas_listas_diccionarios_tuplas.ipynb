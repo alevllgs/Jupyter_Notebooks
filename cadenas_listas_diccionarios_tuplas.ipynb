{
  "nbformat": 4,
  "nbformat_minor": 0,
  "metadata": {
    "colab": {
      "name": "cadenas_listas_diccionarios_tuplas.ipynb",
      "provenance": [],
      "authorship_tag": "ABX9TyP1XTedl1jqEtHjG8JmX4pk",
      "include_colab_link": true
    },
    "kernelspec": {
      "name": "python3",
      "display_name": "Python 3"
    },
    "language_info": {
      "name": "python"
    }
  },
  "cells": [
    {
      "cell_type": "markdown",
      "metadata": {
        "id": "view-in-github",
        "colab_type": "text"
      },
      "source": [
        "<a href=\"https://colab.research.google.com/github/alevllgs/Jupyter_Notebook/blob/main/cadenas_listas_diccionarios_tuplas.ipynb\" target=\"_parent\"><img src=\"https://colab.research.google.com/assets/colab-badge.svg\" alt=\"Open In Colab\"/></a>"
      ]
    },
    {
      "cell_type": "markdown",
      "source": [
        "# Cadenas"
      ],
      "metadata": {
        "id": "TzyvgzWxTKZF"
      }
    },
    {
      "cell_type": "markdown",
      "source": [
        "Las **cadenas** son elementos alfanuméricos que se encierran entre comillas **\" \"**\n",
        "Son inmutables, esto quiere decir que una vez que se crea una cadena , ninguno de los caracteres de la cadena se pueden cambiar.\n",
        "\n",
        "Operaciones con cadenas, la forma de usarlas es cadena.funcion()"
      ],
      "metadata": {
        "id": "-SmSXDvmSVDO"
      }
    },
    {
      "cell_type": "code",
      "source": [
        "cadena = \"gato\""
      ],
      "metadata": {
        "id": "OLBWdsROSIh_"
      },
      "execution_count": null,
      "outputs": []
    },
    {
      "cell_type": "markdown",
      "source": [
        "Operaciones de conversión mayúscula - minúscula\n",
        "\n",
        "1.   **upper()** Cambia todos los caracteres a mayúscula\n",
        "2.   **lower()** Cambia todos los caracteres a minúscula\n",
        "1.   **capitalize()** Convierte el primer caracter en mayúscula\n",
        "2.   **swapcase()** Invierte mayúsculas a minúsculas y viceversa\n",
        "\n",
        "\n",
        "\n",
        "\n",
        "\n",
        "\n"
      ],
      "metadata": {
        "id": "Owdjo9pRppgB"
      }
    },
    {
      "cell_type": "code",
      "source": [
        "cadena.upper()"
      ],
      "metadata": {
        "colab": {
          "base_uri": "https://localhost:8080/",
          "height": 35
        },
        "id": "WVaGZbPQZtdb",
        "outputId": "a49e67d2-20d3-4123-944e-cfbbc28c1ac8"
      },
      "execution_count": null,
      "outputs": [
        {
          "output_type": "execute_result",
          "data": {
            "text/plain": [
              "'GATO'"
            ],
            "application/vnd.google.colaboratory.intrinsic+json": {
              "type": "string"
            }
          },
          "metadata": {},
          "execution_count": 26
        }
      ]
    },
    {
      "cell_type": "code",
      "source": [
        "cadena.lower()"
      ],
      "metadata": {
        "colab": {
          "base_uri": "https://localhost:8080/",
          "height": 35
        },
        "id": "xr5lVDdZq6Bj",
        "outputId": "b5bd0ef8-addc-4aaf-cc2a-a7f3350158f2"
      },
      "execution_count": null,
      "outputs": [
        {
          "output_type": "execute_result",
          "data": {
            "text/plain": [
              "'gato'"
            ],
            "application/vnd.google.colaboratory.intrinsic+json": {
              "type": "string"
            }
          },
          "metadata": {},
          "execution_count": 27
        }
      ]
    },
    {
      "cell_type": "code",
      "source": [
        "cadena.capitalize()"
      ],
      "metadata": {
        "colab": {
          "base_uri": "https://localhost:8080/",
          "height": 35
        },
        "id": "T-ZvIzsPYZro",
        "outputId": "9cc26ecf-643c-4185-f5e4-fd93f1ee0053"
      },
      "execution_count": null,
      "outputs": [
        {
          "output_type": "execute_result",
          "data": {
            "text/plain": [
              "'Gato'"
            ],
            "application/vnd.google.colaboratory.intrinsic+json": {
              "type": "string"
            }
          },
          "metadata": {},
          "execution_count": 28
        }
      ]
    },
    {
      "cell_type": "code",
      "source": [
        "cadena.swapcase()"
      ],
      "metadata": {
        "colab": {
          "base_uri": "https://localhost:8080/",
          "height": 35
        },
        "id": "eaq-bgUirLKO",
        "outputId": "2ca4671a-5404-408a-fb04-a2e43a4d697d"
      },
      "execution_count": null,
      "outputs": [
        {
          "output_type": "execute_result",
          "data": {
            "text/plain": [
              "'GATO'"
            ],
            "application/vnd.google.colaboratory.intrinsic+json": {
              "type": "string"
            }
          },
          "metadata": {},
          "execution_count": 29
        }
      ]
    },
    {
      "cell_type": "markdown",
      "source": [
        "Operaciones lógicas\n",
        "\n",
        "\n",
        "1.   **endswhith()** Regresa True si la cadena termina en el sifijo señalado \" \"\n",
        "2.   **isalnum()** Regresa True si los caracteres son alfanuméricos\n",
        "1.   **isalpha()** Regresa True si todos los caracteres son alfanuméricos\n",
        "2.   **isdigit()** Regresa True si todos los caracteres son dígitos\n",
        "1.   **islower()** Regresa True si tiene sólo letras minúsculas\n",
        "1.   **isnumeric()** Regresa True si tiene sólo números\n",
        "2.   **isspace()** Regresa True si tiene sólo espacios\n",
        "2.   **istitle()** Regresa True si empieza con mayúscula\n",
        "2.   **isupper()** Regresa True si tiene sólo letras mayúsculas\n",
        "\n",
        "\n",
        "\n",
        "\n",
        "\n",
        "\n",
        "\n",
        "\n",
        "\n",
        "\n"
      ],
      "metadata": {
        "id": "iqa5nKpBtJ7m"
      }
    },
    {
      "cell_type": "code",
      "source": [
        "cadena.endswith(\"to\")"
      ],
      "metadata": {
        "colab": {
          "base_uri": "https://localhost:8080/"
        },
        "id": "AbTU8bkot8N0",
        "outputId": "569984cf-3812-4513-bd66-e401286b09cd"
      },
      "execution_count": null,
      "outputs": [
        {
          "output_type": "execute_result",
          "data": {
            "text/plain": [
              "True"
            ]
          },
          "metadata": {},
          "execution_count": 32
        }
      ]
    },
    {
      "cell_type": "code",
      "source": [
        "cadena.isalnum()"
      ],
      "metadata": {
        "colab": {
          "base_uri": "https://localhost:8080/"
        },
        "id": "LxJ4IPCjus5D",
        "outputId": "0faff9ff-a83b-4f25-ece3-b3ff4ade68d0"
      },
      "execution_count": null,
      "outputs": [
        {
          "output_type": "execute_result",
          "data": {
            "text/plain": [
              "False"
            ]
          },
          "metadata": {},
          "execution_count": 33
        }
      ]
    },
    {
      "cell_type": "code",
      "source": [
        "\n",
        "cadena.isalpha()"
      ],
      "metadata": {
        "colab": {
          "base_uri": "https://localhost:8080/"
        },
        "id": "euyjGCjwyZeJ",
        "outputId": "06fbf78a-4102-486d-a609-c0295d5d082b"
      },
      "execution_count": null,
      "outputs": [
        {
          "output_type": "execute_result",
          "data": {
            "text/plain": [
              "True"
            ]
          },
          "metadata": {},
          "execution_count": 34
        }
      ]
    },
    {
      "cell_type": "code",
      "source": [
        "\n",
        "cadena.isdigit()"
      ],
      "metadata": {
        "colab": {
          "base_uri": "https://localhost:8080/"
        },
        "id": "89ggbYzXybVI",
        "outputId": "2827e244-3dc9-4b71-a6d0-9d954feec6ef"
      },
      "execution_count": null,
      "outputs": [
        {
          "output_type": "execute_result",
          "data": {
            "text/plain": [
              "False"
            ]
          },
          "metadata": {},
          "execution_count": 35
        }
      ]
    },
    {
      "cell_type": "code",
      "source": [
        "\n",
        "cadena.isnumeric()"
      ],
      "metadata": {
        "colab": {
          "base_uri": "https://localhost:8080/"
        },
        "id": "x34RtFPoybtS",
        "outputId": "3d0c95fc-4b6a-45c6-9897-df16436d98eb"
      },
      "execution_count": null,
      "outputs": [
        {
          "output_type": "execute_result",
          "data": {
            "text/plain": [
              "False"
            ]
          },
          "metadata": {},
          "execution_count": 36
        }
      ]
    },
    {
      "cell_type": "code",
      "source": [
        "\n",
        "cadena.islower()"
      ],
      "metadata": {
        "colab": {
          "base_uri": "https://localhost:8080/"
        },
        "id": "QQH_pJ3_ybih",
        "outputId": "2c18ca11-3f3e-4f89-ed97-ab6f1d2d0887"
      },
      "execution_count": null,
      "outputs": [
        {
          "output_type": "execute_result",
          "data": {
            "text/plain": [
              "True"
            ]
          },
          "metadata": {},
          "execution_count": 37
        }
      ]
    },
    {
      "cell_type": "code",
      "source": [
        "\n",
        "cadena.isupper()"
      ],
      "metadata": {
        "colab": {
          "base_uri": "https://localhost:8080/"
        },
        "id": "OSvfHXyAyo0E",
        "outputId": "e87e88b6-1a3f-4bce-dc78-561698fcede4"
      },
      "execution_count": null,
      "outputs": [
        {
          "output_type": "execute_result",
          "data": {
            "text/plain": [
              "False"
            ]
          },
          "metadata": {},
          "execution_count": 38
        }
      ]
    },
    {
      "cell_type": "code",
      "source": [
        "\n",
        "cadena.istitle()\n"
      ],
      "metadata": {
        "colab": {
          "base_uri": "https://localhost:8080/"
        },
        "id": "onmLfNCKyb8x",
        "outputId": "b656def3-cef8-40a3-aecf-bb3ad1e947fb"
      },
      "execution_count": null,
      "outputs": [
        {
          "output_type": "execute_result",
          "data": {
            "text/plain": [
              "False"
            ]
          },
          "metadata": {},
          "execution_count": 39
        }
      ]
    },
    {
      "cell_type": "code",
      "source": [
        "\n",
        "cadena.isspace()\n"
      ],
      "metadata": {
        "colab": {
          "base_uri": "https://localhost:8080/"
        },
        "id": "4chvjJTfyb2A",
        "outputId": "bc5dc595-e349-47fb-9c5b-290a3145e61d"
      },
      "execution_count": null,
      "outputs": [
        {
          "output_type": "execute_result",
          "data": {
            "text/plain": [
              "False"
            ]
          },
          "metadata": {},
          "execution_count": 40
        }
      ]
    },
    {
      "cell_type": "markdown",
      "source": [
        "Conteo y busqueda\n",
        "\n",
        "1.   **len(cadena)** Cuenta la longitud de la cadena\n",
        "1.   **max(cadena)** Busca el valor máximo de la cadena\n",
        "1.   **min(cadena)** Busca el valor mínimo de la cadena\n",
        "2.   **cadena.count(\"g\")** Cuenta cuantas veces se encuentra el caracter \n",
        "2.   **cadena.find(\"to\")** Determina si la subcadena es parte de la cadena, indica la posición en la que comienza\n",
        "\n",
        "\n",
        "\n",
        "\n"
      ],
      "metadata": {
        "id": "Nyl5ewV67WtB"
      }
    },
    {
      "cell_type": "code",
      "source": [
        "len(cadena)"
      ],
      "metadata": {
        "id": "rqbxeAmo8d2x",
        "outputId": "5888d4d3-41c8-4746-e6ec-cb421ae57273",
        "colab": {
          "base_uri": "https://localhost:8080/"
        }
      },
      "execution_count": null,
      "outputs": [
        {
          "output_type": "execute_result",
          "data": {
            "text/plain": [
              "4"
            ]
          },
          "metadata": {},
          "execution_count": 48
        }
      ]
    },
    {
      "cell_type": "code",
      "source": [
        "max(cadena)"
      ],
      "metadata": {
        "id": "1GRK4xYk7f2K",
        "outputId": "bd34fe14-65a5-4dcd-99ba-95dcb1e2be72",
        "colab": {
          "base_uri": "https://localhost:8080/",
          "height": 35
        }
      },
      "execution_count": null,
      "outputs": [
        {
          "output_type": "execute_result",
          "data": {
            "text/plain": [
              "'t'"
            ],
            "application/vnd.google.colaboratory.intrinsic+json": {
              "type": "string"
            }
          },
          "metadata": {},
          "execution_count": 47
        }
      ]
    },
    {
      "cell_type": "code",
      "source": [
        "min(cadena)"
      ],
      "metadata": {
        "id": "mx1rqR5O8J7x",
        "outputId": "89691eb3-2248-496a-8f17-e954aa3818bf",
        "colab": {
          "base_uri": "https://localhost:8080/",
          "height": 35
        }
      },
      "execution_count": null,
      "outputs": [
        {
          "output_type": "execute_result",
          "data": {
            "text/plain": [
              "'a'"
            ],
            "application/vnd.google.colaboratory.intrinsic+json": {
              "type": "string"
            }
          },
          "metadata": {},
          "execution_count": 46
        }
      ]
    },
    {
      "cell_type": "code",
      "source": [
        "cadena.count(\"g\")"
      ],
      "metadata": {
        "colab": {
          "base_uri": "https://localhost:8080/"
        },
        "id": "TA4uSHfomiWm",
        "outputId": "fb9640f3-e6b9-4f3b-db10-3224449b99aa"
      },
      "execution_count": null,
      "outputs": [
        {
          "output_type": "execute_result",
          "data": {
            "text/plain": [
              "1"
            ]
          },
          "metadata": {},
          "execution_count": 31
        }
      ]
    },
    {
      "cell_type": "code",
      "source": [
        "cadena.find(\"to\")"
      ],
      "metadata": {
        "id": "EByMI5gO-t5O",
        "outputId": "0d75ec0c-317b-4ebe-c5f7-88bb1d23ad87",
        "colab": {
          "base_uri": "https://localhost:8080/"
        }
      },
      "execution_count": null,
      "outputs": [
        {
          "output_type": "execute_result",
          "data": {
            "text/plain": [
              "2"
            ]
          },
          "metadata": {},
          "execution_count": 67
        }
      ]
    },
    {
      "cell_type": "markdown",
      "source": [
        "Reemplazo y agregación\n",
        "\n",
        "\n",
        "1.   **replace(\"g\",\"p\")** Reemplaza un caracter por otro\n",
        "2.   **rstrip()** Remueve los espacios de la derecha\n",
        "1.   **lstrip()** Remueve los espacios de la izquierda\n",
        "2.   **center(20, \"x\")** Agrega un caracter n veces dejando la cadena original al medio\n",
        "1.   **zfill(10)** Añade ceros al inicio para tener n caracteres\n",
        "2.   **expandtabs(1)** Cambia tabuladores por n espacios\n",
        "\n",
        "\n",
        "\n",
        "\n",
        "\n"
      ],
      "metadata": {
        "id": "XxTssQmL816N"
      }
    },
    {
      "cell_type": "code",
      "source": [
        "cadena.replace(\"g\",\"p\")"
      ],
      "metadata": {
        "id": "kfRta6gJ9s58",
        "outputId": "1a95345b-f0dd-4d00-c4db-7385b5d8349e",
        "colab": {
          "base_uri": "https://localhost:8080/",
          "height": 35
        }
      },
      "execution_count": null,
      "outputs": [
        {
          "output_type": "execute_result",
          "data": {
            "text/plain": [
              "'pato'"
            ],
            "application/vnd.google.colaboratory.intrinsic+json": {
              "type": "string"
            }
          },
          "metadata": {},
          "execution_count": 57
        }
      ]
    },
    {
      "cell_type": "code",
      "source": [
        "cadena.rstrip()"
      ],
      "metadata": {
        "id": "VoQhUAZV98dG",
        "outputId": "4d621040-4b31-4fef-9833-eefb760e845b",
        "colab": {
          "base_uri": "https://localhost:8080/",
          "height": 35
        }
      },
      "execution_count": null,
      "outputs": [
        {
          "output_type": "execute_result",
          "data": {
            "text/plain": [
              "'gato'"
            ],
            "application/vnd.google.colaboratory.intrinsic+json": {
              "type": "string"
            }
          },
          "metadata": {},
          "execution_count": 58
        }
      ]
    },
    {
      "cell_type": "code",
      "source": [
        "cadena.lstrip()"
      ],
      "metadata": {
        "id": "fPb30P2a-Id_",
        "outputId": "0ae86046-2bf9-4d07-8474-fc597e56bc83",
        "colab": {
          "base_uri": "https://localhost:8080/",
          "height": 35
        }
      },
      "execution_count": null,
      "outputs": [
        {
          "output_type": "execute_result",
          "data": {
            "text/plain": [
              "'gato'"
            ],
            "application/vnd.google.colaboratory.intrinsic+json": {
              "type": "string"
            }
          },
          "metadata": {},
          "execution_count": 60
        }
      ]
    },
    {
      "cell_type": "code",
      "source": [
        "cadena"
      ],
      "metadata": {
        "id": "7Rp6bxDP-RQn",
        "outputId": "eefcc0bd-46d9-43a6-db4b-0d9c9b65d1bf",
        "colab": {
          "base_uri": "https://localhost:8080/",
          "height": 35
        }
      },
      "execution_count": null,
      "outputs": [
        {
          "output_type": "execute_result",
          "data": {
            "text/plain": [
              "'gato'"
            ],
            "application/vnd.google.colaboratory.intrinsic+json": {
              "type": "string"
            }
          },
          "metadata": {},
          "execution_count": 61
        }
      ]
    },
    {
      "cell_type": "code",
      "source": [
        "cadena.center(20, \"x\")"
      ],
      "metadata": {
        "colab": {
          "base_uri": "https://localhost:8080/",
          "height": 35
        },
        "id": "LC42GX2JmD2H",
        "outputId": "bea32baf-390f-485d-b551-965f01384cd5"
      },
      "execution_count": null,
      "outputs": [
        {
          "output_type": "execute_result",
          "data": {
            "text/plain": [
              "'xxxxxxxxgatoxxxxxxxx'"
            ],
            "application/vnd.google.colaboratory.intrinsic+json": {
              "type": "string"
            }
          },
          "metadata": {},
          "execution_count": 30
        }
      ]
    },
    {
      "cell_type": "code",
      "source": [
        "cadena.zfill(10)"
      ],
      "metadata": {
        "id": "RQbYFsLZ-av5",
        "outputId": "4bd7a473-2d05-41db-d04f-d4dcba30c84f",
        "colab": {
          "base_uri": "https://localhost:8080/",
          "height": 35
        }
      },
      "execution_count": null,
      "outputs": [
        {
          "output_type": "execute_result",
          "data": {
            "text/plain": [
              "'000000gato'"
            ],
            "application/vnd.google.colaboratory.intrinsic+json": {
              "type": "string"
            }
          },
          "metadata": {},
          "execution_count": 62
        }
      ]
    },
    {
      "cell_type": "code",
      "source": [
        "cadena.expandtabs(1)"
      ],
      "metadata": {
        "id": "d298Hl4Q84cd",
        "outputId": "eb352512-3a76-458a-a4e2-06925426e126",
        "colab": {
          "base_uri": "https://localhost:8080/",
          "height": 35
        }
      },
      "execution_count": null,
      "outputs": [
        {
          "output_type": "execute_result",
          "data": {
            "text/plain": [
              "'gato'"
            ],
            "application/vnd.google.colaboratory.intrinsic+json": {
              "type": "string"
            }
          },
          "metadata": {},
          "execution_count": 82
        }
      ]
    },
    {
      "cell_type": "markdown",
      "source": [
        "# Listas"
      ],
      "metadata": {
        "id": "ZlHPSnwbTRqf"
      }
    },
    {
      "cell_type": "markdown",
      "source": [
        "Las **listas** van en corchetes y separadas por comas **[ ]**"
      ],
      "metadata": {
        "id": "VpUVMQCnRCl7"
      }
    },
    {
      "cell_type": "code",
      "execution_count": null,
      "metadata": {
        "id": "v3CJXgkvCQqT"
      },
      "outputs": [],
      "source": [
        "unaLista = [12, 34, 21]"
      ]
    },
    {
      "cell_type": "code",
      "source": [
        "for item in unaLista:\n",
        "  print (item)"
      ],
      "metadata": {
        "colab": {
          "base_uri": "https://localhost:8080/"
        },
        "id": "sG5R50oRRtSd",
        "outputId": "bc4c8a70-2f2f-42c5-b38f-9a8fb428f3e8"
      },
      "execution_count": null,
      "outputs": [
        {
          "output_type": "stream",
          "name": "stdout",
          "text": [
            "12\n",
            "34\n",
            "21\n"
          ]
        }
      ]
    },
    {
      "cell_type": "markdown",
      "source": [
        "# Diccionarios"
      ],
      "metadata": {
        "id": "tN0ja45GUn7O"
      }
    },
    {
      "cell_type": "markdown",
      "source": [
        "Los **diccionarios** van en corchetes **{ }**, consisten en listas de pares de variables. Cada par tiene dos elementos que pueden ser de cualquier tipo, el primer elemento llamado **clave** (key) y otro elemento llamado **valor** "
      ],
      "metadata": {
        "id": "XsAphLCJU6SP"
      }
    },
    {
      "cell_type": "markdown",
      "source": [
        "# Tuplas"
      ],
      "metadata": {
        "id": "a9VjHxxoUq_x"
      }
    }
  ]
}